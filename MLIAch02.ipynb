{
 "cells": [
  {
   "cell_type": "code",
   "execution_count": 62,
   "metadata": {},
   "outputs": [
    {
     "data": {
      "text/plain": [
       "['A', 'A', 'B', 'B']"
      ]
     },
     "execution_count": 62,
     "metadata": {},
     "output_type": "execute_result"
    }
   ],
   "source": [
    "import numpy as np\n",
    "import operator\n",
    "def creatDataSet():\n",
    "    group = [[1.0,1.1],[1.0,1.0],[0,0],[0,0.1]]\n",
    "    labels = ['A','A','B','B']\n",
    "    return group,labels\n",
    "group,labels = creatDataSet()\n",
    "labels"
   ]
  },
  {
   "cell_type": "code",
   "execution_count": 63,
   "metadata": {},
   "outputs": [
    {
     "name": "stdout",
     "output_type": "stream",
     "text": [
      "a is bcaaaad\n"
     ]
    }
   ],
   "source": [
    "a = 'bcaaaad'\n",
    "print ('a is' +  ' ' + a)"
   ]
  },
  {
   "cell_type": "code",
   "execution_count": 64,
   "metadata": {},
   "outputs": [
    {
     "data": {
      "text/plain": [
       "[('B', 2), ('A', 1)]"
      ]
     },
     "execution_count": 64,
     "metadata": {},
     "output_type": "execute_result"
    }
   ],
   "source": [
    "group = [[1.0,1.1],[1.0,1.0],[0,0],[0,0.1]]\n",
    "label1 = ['A','A','B','B']\n",
    "#定义函数，通过函数classify给新样本电影分类，X为新样本坐标，dataSet为老样本坐标，label为老样本对应的类别，k为取k个离X最近的类别情况\n",
    "def classify(X,dataSet,label,k):\n",
    "    dataSetSize = len(dataSet)\n",
    "    #将新样本与老样本的每一个做差，以便求距离\n",
    "    diffMat = np.tile(X,(dataSetSize,1)) - dataSet\n",
    "    sqDiffMat = diffMat**2\n",
    "    sqDistances = sqDiffMat.sum(axis = 1)\n",
    "    #做差后求平方和再开根，求出距离。\n",
    "    distances = sqDistances**0.5\n",
    "    #按照距离由小到大顺序的索引返回。*重要\n",
    "    sortedDistances = distances.argsort()\n",
    "    #取距离最近的k个点的类别，类别为字典的key，数量为val\n",
    "    classCount = {}\n",
    "    for i in range(k):\n",
    "        #从距离X最近的开始，每个样本的类别\n",
    "        voteLabel = label[sortedDistances[i]]\n",
    "        #同一类别每多出现一次，在该key后面的val+1，若没出现过的key，第一次出现时val为0+1\n",
    "        classCount[voteLabel] = classCount.get(voteLabel,0) + 1\n",
    "    #sort为list中的函数，sorted()可为可排序的进行排序，sorted(iterable,cmp,key, reverse)，并返回新的list。key后面为定义的一个函数，这里意思为\n",
    "    #以可迭代对象的第二个域排序，按降序原则排列。默认为False升序。\n",
    "    sortedClassCount = sorted(classCount.items(),key = operator.itemgetter(1),reverse = True)\n",
    "    return sortedClassCount\n",
    "classify([0,0],group,label1,3)"
   ]
  },
  {
   "cell_type": "code",
   "execution_count": 65,
   "metadata": {},
   "outputs": [
    {
     "data": {
      "text/plain": [
       "(2, 1)"
      ]
     },
     "execution_count": 65,
     "metadata": {},
     "output_type": "execute_result"
    }
   ],
   "source": [
    "a = [1,2,3]\n",
    "b=operator.itemgetter(1,0)\n",
    "b(a)"
   ]
  },
  {
   "cell_type": "code",
   "execution_count": 97,
   "metadata": {},
   "outputs": [
    {
     "data": {
      "text/html": [
       "<div>\n",
       "<style scoped>\n",
       "    .dataframe tbody tr th:only-of-type {\n",
       "        vertical-align: middle;\n",
       "    }\n",
       "\n",
       "    .dataframe tbody tr th {\n",
       "        vertical-align: top;\n",
       "    }\n",
       "\n",
       "    .dataframe thead th {\n",
       "        text-align: right;\n",
       "    }\n",
       "</style>\n",
       "<table border=\"1\" class=\"dataframe\">\n",
       "  <thead>\n",
       "    <tr style=\"text-align: right;\">\n",
       "      <th></th>\n",
       "      <th>a</th>\n",
       "      <th>b</th>\n",
       "      <th>c</th>\n",
       "    </tr>\n",
       "  </thead>\n",
       "  <tbody>\n",
       "    <tr>\n",
       "      <th>0</th>\n",
       "      <td>40920</td>\n",
       "      <td>8.326976</td>\n",
       "      <td>0.953952</td>\n",
       "    </tr>\n",
       "    <tr>\n",
       "      <th>1</th>\n",
       "      <td>14488</td>\n",
       "      <td>7.153469</td>\n",
       "      <td>1.673904</td>\n",
       "    </tr>\n",
       "    <tr>\n",
       "      <th>2</th>\n",
       "      <td>26052</td>\n",
       "      <td>1.441871</td>\n",
       "      <td>0.805124</td>\n",
       "    </tr>\n",
       "    <tr>\n",
       "      <th>3</th>\n",
       "      <td>75136</td>\n",
       "      <td>13.147394</td>\n",
       "      <td>0.428964</td>\n",
       "    </tr>\n",
       "    <tr>\n",
       "      <th>4</th>\n",
       "      <td>38344</td>\n",
       "      <td>1.669788</td>\n",
       "      <td>0.134296</td>\n",
       "    </tr>\n",
       "    <tr>\n",
       "      <th>5</th>\n",
       "      <td>72993</td>\n",
       "      <td>10.141740</td>\n",
       "      <td>1.032955</td>\n",
       "    </tr>\n",
       "    <tr>\n",
       "      <th>6</th>\n",
       "      <td>35948</td>\n",
       "      <td>6.830792</td>\n",
       "      <td>1.213192</td>\n",
       "    </tr>\n",
       "    <tr>\n",
       "      <th>7</th>\n",
       "      <td>42666</td>\n",
       "      <td>13.276369</td>\n",
       "      <td>0.543880</td>\n",
       "    </tr>\n",
       "    <tr>\n",
       "      <th>8</th>\n",
       "      <td>67497</td>\n",
       "      <td>8.631577</td>\n",
       "      <td>0.749278</td>\n",
       "    </tr>\n",
       "    <tr>\n",
       "      <th>9</th>\n",
       "      <td>35483</td>\n",
       "      <td>12.273169</td>\n",
       "      <td>1.508053</td>\n",
       "    </tr>\n",
       "  </tbody>\n",
       "</table>\n",
       "</div>"
      ],
      "text/plain": [
       "       a          b         c\n",
       "0  40920   8.326976  0.953952\n",
       "1  14488   7.153469  1.673904\n",
       "2  26052   1.441871  0.805124\n",
       "3  75136  13.147394  0.428964\n",
       "4  38344   1.669788  0.134296\n",
       "5  72993  10.141740  1.032955\n",
       "6  35948   6.830792  1.213192\n",
       "7  42666  13.276369  0.543880\n",
       "8  67497   8.631577  0.749278\n",
       "9  35483  12.273169  1.508053"
      ]
     },
     "execution_count": 97,
     "metadata": {},
     "output_type": "execute_result"
    }
   ],
   "source": [
    "import pandas as pd\n",
    "path = \"F:/regard_work_as_interest/machine_learning_in_action/machinelearninginaction/Ch02/datingTestSet2.txt\"\n",
    "readFile = pd.read_table(path,sep = '\\t',header = None,names = ['a','b','c','d'])\n",
    "datingDataMat = readFile.iloc[:,:3]\n",
    "datingLabels = readFile.iloc[:,-1:]\n",
    "datingDataMat.iloc[:10,1]\n",
    "c = datingDataMat\n",
    "c[:10]"
   ]
  },
  {
   "cell_type": "code",
   "execution_count": 94,
   "metadata": {},
   "outputs": [
    {
     "data": {
      "image/png": "[encoded data removed]",
      "text/plain": [
       "<matplotlib.figure.Figure at 0xb2c5f60>"
      ]
     },
     "metadata": {},
     "output_type": "display_data"
    }
   ],
   "source": [
    "import matplotlib\n",
    "import matplotlib.pyplot as plt\n",
    "fig = plt.figure()\n",
    "ax = fig.add_subplot(111)\n",
    "ax.scatter(datingDataMat.iloc[:,1],datingDataMat.iloc[:,2],c = 'r')\n",
    "plt.show()"
   ]
  },
  {
   "cell_type": "code",
   "execution_count": 102,
   "metadata": {},
   "outputs": [
    {
     "data": {
      "text/plain": [
       "a    0.000000\n",
       "b    0.000000\n",
       "c    0.001156\n",
       "dtype: float64"
      ]
     },
     "execution_count": 102,
     "metadata": {},
     "output_type": "execute_result"
    }
   ],
   "source": [
    "minVals = datingDataMat.min(axis = 0)\n",
    "minVals"
   ]
  },
  {
   "cell_type": "code",
   "execution_count": 105,
   "metadata": {},
   "outputs": [
    {
     "data": {
      "text/plain": [
       "a    91273.000000\n",
       "b       20.919349\n",
       "c        1.695517\n",
       "dtype: float64"
      ]
     },
     "execution_count": 105,
     "metadata": {},
     "output_type": "execute_result"
    }
   ],
   "source": [
    "maxVals = datingDataMat.max(0)\n",
    "maxVals"
   ]
  },
  {
   "cell_type": "code",
   "execution_count": 120,
   "metadata": {},
   "outputs": [
    {
     "data": {
      "text/plain": [
       "<map at 0xb3c58d0>"
      ]
     },
     "execution_count": 120,
     "metadata": {},
     "output_type": "execute_result"
    }
   ],
   "source": [
    "ranges = maxVals - minVals\n",
    "#np.zeros(np.shape(datingDataMat))\n",
    "m = list(datingDataMat.itertuples(index=False))\n",
    "df = datingDataMat[['a', 'b', 'c']]\n",
    "map(tuple,df.values)"
   ]
  },
  {
   "cell_type": "code",
   "execution_count": 128,
   "metadata": {},
   "outputs": [
    {
     "data": {
      "text/plain": [
       "2.807354922057604"
      ]
     },
     "execution_count": 128,
     "metadata": {},
     "output_type": "execute_result"
    }
   ],
   "source": [
    "from math import log\n",
    "a = log(7.0,2.0)\n",
    "a"
   ]
  },
  {
   "cell_type": "code",
   "execution_count": 159,
   "metadata": {},
   "outputs": [
    {
     "data": {
      "text/plain": [
       "[1, 1, 'yes']"
      ]
     },
     "execution_count": 159,
     "metadata": {},
     "output_type": "execute_result"
    }
   ],
   "source": [
    "from math import log\n",
    "#按照给定特征划分数据集\n",
    "def splitDataSet(dataSet,column,value):\n",
    "    retDataSet = []\n",
    "    for x in dataSet:\n",
    "        if x[column] == value:\n",
    "            retRow = x\n",
    "            retDataSet.append(retRow)\n",
    "    return retDataSet\n",
    "#计算整个数据集的信息熵\n",
    "def calcShannonEnt(dataSet):\n",
    "    labelCounts = {}\n",
    "    for lc in dataSet:\n",
    "        #result等于当前行的最后一个值，即该数据下的类别\n",
    "        result = lc[-1]\n",
    "        #将类别作为字典的key，出现次数记做对应的value\n",
    "        labelCounts[result] = labelCounts.get(result,0) + 1\n",
    "    #为香农熵做初始化的值\n",
    "    shannonEnt = 0.0\n",
    "    for key in labelCounts:\n",
    "        #每种类别的概率\n",
    "        prob = labelCounts[key]/len(dataSet)\n",
    "        #计算出最终的熵值\n",
    "        shannonEnt -= prob*log(prob,2)\n",
    "    return shannonEnt\n",
    "def bestFeatureToSplit(dataSet):\n",
    "    #判定类别的属性的数量\n",
    "    numFeatures = len(dataSet[0]) - 1\n",
    "    featList = []\n",
    "    #总信息熵的值\n",
    "    baseEntropy = calcShannonEnt(dataSet) \n",
    "    bestInfoGain = 0.0;bestFeature = -1\n",
    "    for i in range(numFeatures):\n",
    "        #第i种属性下的所有值\n",
    "        featList = [example[i] for example in dataSet]\n",
    "        #去重得到第i列下的不相同的所有值\n",
    "        uniqueValues = set(featList)\n",
    "        newEntropy = 0.0\n",
    "        for value in uniqueValues:\n",
    "            #返回在第i列下特定值value的时候的所有行\n",
    "            retDataSet = splitDataSet(dataSet,i,value)\n",
    "            #该分类下的概率\n",
    "            prob = len(retDataSet)/len(dataSet)\n",
    "            #不懂不懂不懂为啥×总的熵值\n",
    "            newEntropy += prob*calcShannonEnt(retDataSet)\n",
    "        #为取newEntropy的最小值，所以在infoGain更大的时候赋给bestInfoGain\n",
    "        infoGain = baseEntropy - newEntropy\n",
    "        if(infoGain > bestInfoGain):\n",
    "            bestInfoGain = infoGain\n",
    "            #对应的i为最好的划分数据集的特征\n",
    "            bestFeature = i\n",
    "    return bestFeature\n",
    "data = [[1,1,'yes'],[1,1,'yes'],[1,0,'no'],[0,1,'no'],[0,1,'no']]\n",
    "a = bestFeatureToSplit(data)\n",
    "a\n"
   ]
  },
  {
   "cell_type": "code",
   "execution_count": 134,
   "metadata": {},
   "outputs": [
    {
     "data": {
      "text/plain": [
       "[1, 1, 'maybe']"
      ]
     },
     "execution_count": 134,
     "metadata": {},
     "output_type": "execute_result"
    }
   ],
   "source": [
    "data[0]"
   ]
  },
  {
   "cell_type": "code",
   "execution_count": 137,
   "metadata": {},
   "outputs": [
    {
     "name": "stdout",
     "output_type": "stream",
     "text": [
      "{0, 1}\n",
      "{0, 1}\n"
     ]
    }
   ],
   "source": [
    "numFeatures = len(data[0]) - 1\n",
    "for i in range(numFeatures):\n",
    "    featList = [example[i] for example in data]\n",
    "    uniqueVals = set(featList)\n",
    "    print (uniqueVals)"
   ]
  },
  {
   "cell_type": "code",
   "execution_count": 140,
   "metadata": {},
   "outputs": [
    {
     "name": "stdout",
     "output_type": "stream",
     "text": [
      "1\n",
      "1\n",
      "1\n"
     ]
    },
    {
     "data": {
      "text/plain": [
       "[[1, 1, 'maybe'], [1, 1, 'yes'], [1, 0, 'no']]"
      ]
     },
     "execution_count": 140,
     "metadata": {},
     "output_type": "execute_result"
    }
   ],
   "source": [
    "#按照给定特征划分数据集\n",
    "def splitDataSet(dataSet,column,value):\n",
    "    retDataSet = []\n",
    "    for x in dataSet:\n",
    "        if x[column] == value:\n",
    "            print(x[column])\n",
    "            retRow = x\n",
    "            retDataSet.append(retRow)\n",
    "    return retDataSet\n",
    "b = splitDataSet(data,0,1)\n",
    "b"
   ]
  },
  {
   "cell_type": "code",
   "execution_count": 161,
   "metadata": {},
   "outputs": [
    {
     "name": "stdout",
     "output_type": "stream",
     "text": [
      "aaa bbb\n"
     ]
    }
   ],
   "source": [
    "a = 'bbb'\n",
    "print ('aaa' + ' ' + a)"
   ]
  },
  {
   "cell_type": "code",
   "execution_count": null,
   "metadata": {
    "collapsed": true
   },
   "outputs": [],
   "source": []
  }
 ],
 "metadata": {
  "kernelspec": {
   "display_name": "Python 3",
   "language": "python",
   "name": "python3"
  },
  "language_info": {
   "codemirror_mode": {
    "name": "ipython",
    "version": 3
   },
   "file_extension": ".py",
   "mimetype": "text/x-python",
   "name": "python",
   "nbconvert_exporter": "python",
   "pygments_lexer": "ipython3",
   "version": "3.6.3"
  }
 },
 "nbformat": 4,
 "nbformat_minor": 2
}
